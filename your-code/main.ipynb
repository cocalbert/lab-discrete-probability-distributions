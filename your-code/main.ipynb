{
 "cells": [
  {
   "cell_type": "markdown",
   "metadata": {},
   "source": [
    "# Before your start:\n",
    "\n",
    "    Read the README.md file\n",
    "    Comment as much as you can and use the resources (README.md file)\n",
    "    Happy learning!\n",
    "\n",
    "*Notes:* \n",
    "\n",
    "- Solve the questions with python.\n",
    "\n",
    "- Round the final answer to three decimal places."
   ]
  },
  {
   "cell_type": "markdown",
   "metadata": {},
   "source": [
    "## Bernoulli's Distribution\n",
    "\n",
    "In a basket containing 100 fruits, there are 60 apples and 40 oranges. \n",
    "\n",
    "A fruit is picked randomly from the basket. \n",
    "\n",
    "1. **What is the probability that the fruit is apple?**\n",
    "1. **What is the probability that it is an orange?**"
   ]
  },
  {
   "cell_type": "code",
   "execution_count": 1,
   "metadata": {},
   "outputs": [
    {
     "name": "stdout",
     "output_type": "stream",
     "text": [
      "Probability of picking an apple: 0.6\n",
      "Probability of picking an orange: 0.4\n"
     ]
    }
   ],
   "source": [
    "p_apple = 0.6\n",
    "p_orange = 0.4\n",
    "\n",
    "\n",
    "print(\"Probability of picking an apple:\", p_apple)\n",
    "\n",
    "\n",
    "print(\"Probability of picking an orange:\", p_orange)"
   ]
  },
  {
   "cell_type": "markdown",
   "metadata": {},
   "source": [
    "Now we take a random sample of 20 fruits from the basket. After each fruit is taken, a new fruit of the same type is replaced in the basket. Therefore, every time we are taking 1 fruit from 100 fruits. \n",
    "\n",
    "1. **What is the probability that the first 5 fruits are all apples?**\n",
    "\n",
    "1. **What is the probability that the first 5 fruits are all apples and the next 15 fruits are all oranges?**\n",
    "\n",
    "You can include the `p` and `q` probabilities you previous calculated in your solution."
   ]
  },
  {
   "cell_type": "code",
   "execution_count": 2,
   "metadata": {},
   "outputs": [
    {
     "name": "stdout",
     "output_type": "stream",
     "text": [
      "Probability of getting 5 apples: 0.0012944935222876583\n",
      "Probability of getting 5 apples and 15 oranges: 1.389951835777336e-09\n"
     ]
    }
   ],
   "source": [
    "import scipy.stats as stats\n",
    "\n",
    "\n",
    "n = 20\n",
    "p_apple = 0.6\n",
    "p_orange = 0.4\n",
    "\n",
    "\n",
    "k = 5\n",
    "prob_5apples = stats.binom.pmf(k, n, p_apple)\n",
    "print(\"Probability of getting 5 apples:\", prob_5apples)\n",
    "\n",
    "\n",
    "k_apple = 5\n",
    "k_orange = 15\n",
    "prob_5apples_15oranges = stats.binom.pmf(k_apple, n, p_apple) * stats.binom.pmf(k_orange, n-k_apple, p_orange)\n",
    "print(\"Probability of getting 5 apples and 15 oranges:\", prob_5apples_15oranges)"
   ]
  },
  {
   "cell_type": "markdown",
   "metadata": {},
   "source": [
    "## Binomial Distribution\n",
    "\n",
    "Similar to the above problem, this time again we randomly sample 20 fruits.\n",
    "\n",
    "**What is the probability that this time the sample contains 5 apples and 15 oranges?**\n",
    "\n",
    "Please note that this time the order of the fruits being picked does not matter."
   ]
  },
  {
   "cell_type": "code",
   "execution_count": 3,
   "metadata": {},
   "outputs": [
    {
     "name": "stdout",
     "output_type": "stream",
     "text": [
      "Probability of getting 5 apples and 15 oranges: 0.0012944935222876579\n"
     ]
    }
   ],
   "source": [
    "import scipy.special as sp\n",
    "\n",
    "\n",
    "n = 20\n",
    "p_apple = 0.6\n",
    "p_orange = 0.4\n",
    "\n",
    "\n",
    "k_apple = 5\n",
    "k_orange = 15\n",
    "comb_5outof20 = sp.comb(n, k_apple)\n",
    "prob_5apples_15oranges = comb_5outof20 * (p_apple**k_apple) * (p_orange**k_orange)\n",
    "print(\"Probability of getting 5 apples and 15 oranges:\", prob_5apples_15oranges)"
   ]
  },
  {
   "cell_type": "markdown",
   "metadata": {},
   "source": [
    "In the lesson we also discussed CDF (cumulative distribution function). In the context of the above problem, **what is the probability that less than 5 fruits picked are apples?**\n",
    "\n",
    "Write the formula and calculate the probability below."
   ]
  },
  {
   "cell_type": "code",
   "execution_count": 4,
   "metadata": {},
   "outputs": [
    {
     "name": "stdout",
     "output_type": "stream",
     "text": [
      "Probability of less than 5 apples: 0.00031703112116863004\n"
     ]
    }
   ],
   "source": [
    "n = 20\n",
    "p_apple = 0.6\n",
    "\n",
    "\n",
    "k = 4\n",
    "prob_less_than_5apples = stats.binom.cdf(k, n, p_apple)\n",
    "print(\"Probability of less than 5 apples:\", prob_less_than_5apples)"
   ]
  },
  {
   "cell_type": "markdown",
   "metadata": {},
   "source": [
    "**Plot the PDF (probability distributiom function) for the above binomial distribution.**\n",
    "\n",
    "*Hint: The range of x in a binomial distribution is from `0` to `n`.*"
   ]
  },
  {
   "cell_type": "code",
   "execution_count": 5,
   "metadata": {},
   "outputs": [
    {
     "data": {
      "image/png": "[encoded data removed]",
      "text/plain": [
       "<Figure size 640x480 with 1 Axes>"
      ]
     },
     "metadata": {},
     "output_type": "display_data"
    }
   ],
   "source": [
    "import matplotlib.pyplot as plt\n",
    "import numpy as np\n",
    "\n",
    "\n",
    "n = 20\n",
    "p_apple = 0.6\n",
    "\n",
    "\n",
    "x_values = np.arange(0, n+1)\n",
    "\n",
    "\n",
    "pmf_values = stats.binom.pmf(x_values, n, p_apple)\n",
    "\n",
    "\n",
    "plt.bar(x_values, pmf_values)\n",
    "plt.title(\"Binomial Distribution (n={}, p={})\".format(n, p_apple))\n",
    "plt.xlabel(\"Number of Apples Picked\")\n",
    "plt.ylabel(\"Probability\")\n",
    "plt.show()\n"
   ]
  },
  {
   "cell_type": "markdown",
   "metadata": {},
   "source": [
    "## Poisson Distribution\n",
    "\n",
    "In this challenge you are required to use the Math library in python to solve the problems.\n",
    "\n",
    "In the UEFA champions league tournament, the average number of goals scored in a match is 2.3. \n",
    "\n",
    "**What is the probability that the number of goals scored in a match is 5?**\n",
    "\n",
    "```"
   ]
  },
  {
   "cell_type": "code",
   "execution_count": 6,
   "metadata": {},
   "outputs": [
    {
     "name": "stdout",
     "output_type": "stream",
     "text": [
      "Probability of scoring 5 goals in a match: 0.0537750255819468\n"
     ]
    }
   ],
   "source": [
    "import math\n",
    "\n",
    "\n",
    "mu = 2.3\n",
    "k = 5\n",
    "\n",
    "\n",
    "prob = (math.exp(-mu) * mu**k) / math.factorial(k)\n",
    "\n",
    "\n",
    "print(\"Probability of scoring 5 goals in a match:\", prob)"
   ]
  },
  {
   "cell_type": "markdown",
   "metadata": {},
   "source": [
    "**Draw a poisson probability distribution plot for the number of goals to be between 0 to 10.**"
   ]
  },
  {
   "cell_type": "code",
   "execution_count": 7,
   "metadata": {},
   "outputs": [
    {
     "name": "stdout",
     "output_type": "stream",
     "text": [
      "Probability of scoring 5 goals in a match: 0.0537750255819468\n"
     ]
    }
   ],
   "source": [
    "import math\n",
    "\n",
    "\n",
    "mu = 2.3\n",
    "k = 5\n",
    "\n",
    "\n",
    "prob = (math.exp(-mu) * mu**k) / math.factorial(k)\n",
    "\n",
    "\n",
    "print(\"Probability of scoring 5 goals in a match:\", prob)"
   ]
  },
  {
   "cell_type": "code",
   "execution_count": null,
   "metadata": {},
   "outputs": [],
   "source": []
  }
 ],
 "metadata": {
  "kernelspec": {
   "display_name": "Python 3 (ipykernel)",
   "language": "python",
   "name": "python3"
  },
  "language_info": {
   "codemirror_mode": {
    "name": "ipython",
    "version": 3
   },
   "file_extension": ".py",
   "mimetype": "text/x-python",
   "name": "python",
   "nbconvert_exporter": "python",
   "pygments_lexer": "ipython3",
   "version": "3.9.13"
  }
 },
 "nbformat": 4,
 "nbformat_minor": 2
}
